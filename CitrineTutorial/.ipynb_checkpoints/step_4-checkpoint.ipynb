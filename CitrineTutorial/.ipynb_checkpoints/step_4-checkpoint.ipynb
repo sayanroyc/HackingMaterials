{
 "cells": [
  {
   "cell_type": "markdown",
   "metadata": {},
   "source": [
    "## Handbook step 4: add formation energy and density to the learner"
   ]
  },
  {
   "cell_type": "code",
   "execution_count": 1,
   "metadata": {
    "collapsed": true
   },
   "outputs": [],
   "source": [
    "import sys\n",
    "from pymatgen import Composition, Element, MPRester\n",
    "import numpy as np\n",
    "from sklearn import linear_model, metrics, ensemble\n",
    "from sklearn.model_selection import cross_val_score, ShuffleSplit\n",
    "import pandas as pd\n",
    "import matplotlib.pyplot as plt"
   ]
  },
  {
   "cell_type": "markdown",
   "metadata": {},
   "source": [
    "### set up MPRester"
   ]
  },
  {
   "cell_type": "code",
   "execution_count": 2,
   "metadata": {
    "collapsed": true
   },
   "outputs": [],
   "source": [
    "API_KEY = None # key received from Materials Project\n",
    "\n",
    "if API_KEY is None:\n",
    "\tm = MPRester()\n",
    "else:\n",
    "\tm = MPRester(API_KEY)"
   ]
  },
  {
   "cell_type": "markdown",
   "metadata": {},
   "source": [
    "### Import compound and bandgap data from bandgapDFT.csv"
   ]
  },
  {
   "cell_type": "code",
   "execution_count": 3,
   "metadata": {
    "collapsed": false
   },
   "outputs": [
    {
     "name": "stdout",
     "output_type": "stream",
     "text": [
      "  compound_name  band_gap\n",
      "0           LiH    2.9810\n",
      "1          BeH2    5.3260\n",
      "2         B9H11    2.9118\n",
      "3          B2H5    6.3448\n",
      "4           BH3    5.3234\n"
     ]
    }
   ],
   "source": [
    "col_names = ['compound_name', 'band_gap'] # file has no header, so we add our own\n",
    "compounds = pd.read_csv('bandgapDFT.csv', names=col_names, header=None)\n",
    "print compounds.head()"
   ]
  },
  {
   "cell_type": "markdown",
   "metadata": {},
   "source": [
    "### Define the function to retrieve the formation energy and density\n",
    "####- input: compound (contains compound_name and bandgap pulled from bandgapDFT.csv)\n",
    "####- output: Pandas Series of formation energy and density"
   ]
  },
  {
   "cell_type": "code",
   "execution_count": 4,
   "metadata": {
    "collapsed": true
   },
   "outputs": [],
   "source": [
    "def get_formation_energy_and_density(compound):\n",
    "    # print 'retrieving', compound['compound_name']\n",
    "\n",
    "\treturned_compounds = m.get_data(compound['compound_name']) \n",
    "\t# returns of a list which matches the given compound\n",
    "\t# multiple hits are returned, we can get the specific one we need by sorting using bandgap\n",
    "\t# we have the bandgap, compare it to each entry, and keep the one which is closest to the given bandgap\n",
    "\n",
    "\tband_gap_diffs = []\n",
    "\tfor c in returned_compounds:\n",
    "\t\t# if c['band_gap'] != compound['band_gap']:\n",
    "\t\t\t# returned_compounds.remove(c)\n",
    "\t\t# decimal places are off.. ex. 2.918 vs 2.9180\n",
    "\t\tband_gap_diffs.append(abs(c['band_gap']-compound['band_gap']))\n",
    "\n",
    "    # take care of case where compound does not exist in database..\n",
    "\tif band_gap_diffs == []:\n",
    "\t\tprint \"Matching compounds for \" + compound['compound_name'] + \" does not exist. Replacing formation energy and density with 0.\"\n",
    "\t\treturn 0, 0\n",
    "\tind = np.argmin(band_gap_diffs)\n",
    "\tmatching_compound = returned_compounds[ind]\n",
    "\n",
    "\t# if len(returned_compounds) != 1:\n",
    "\t# \tsys.exit(\"Matching compounds for \" + compound['compound_name'] + \" exceeds 1. Matches: \" + str(len(returned_compounds)))\n",
    "\t\t# print \"Matching compounds for \" + compound_name + \" is not 1. Matches: \" + len(returned_compounds)\n",
    "\n",
    "\treturn pd.Series({'formation_energy':matching_compound['formation_energy_per_atom'], 'density':matching_compound['density']})"
   ]
  },
  {
   "cell_type": "markdown",
   "metadata": {},
   "source": [
    "### Retrieve the formation energy and density information and add it to the dataframe"
   ]
  },
  {
   "cell_type": "code",
   "execution_count": 5,
   "metadata": {
    "collapsed": false
   },
   "outputs": [
    {
     "name": "stdout",
     "output_type": "stream",
     "text": [
      "Matching compounds for CsO does not exist. Replacing formation energy and density with 0.\n",
      "Matching compounds for Pm2O3 does not exist. Replacing formation energy and density with 0.\n",
      "Matching compounds for PmMg does not exist. Replacing formation energy and density with 0.\n",
      "Matching compounds for EuCd does not exist. Replacing formation energy and density with 0.\n"
     ]
    }
   ],
   "source": [
    "# compounds['formation_energy'], compounds['density'] = compounds[\"compound_name\"].apply(get_formation_energy_and_density)\n",
    "f_e_d = compounds.apply(get_formation_energy_and_density, axis=1)\n",
    "compounds = pd.concat([compounds, f_e_d], axis=1)\n"
   ]
  },
  {
   "cell_type": "code",
   "execution_count": 12,
   "metadata": {
    "collapsed": false
   },
   "outputs": [
    {
     "data": {
      "text/html": [
       "<div>\n",
       "<table border=\"1\" class=\"dataframe\">\n",
       "  <thead>\n",
       "    <tr style=\"text-align: right;\">\n",
       "      <th></th>\n",
       "      <th>compound_name</th>\n",
       "      <th>band_gap</th>\n",
       "      <th>density</th>\n",
       "      <th>formation_energy</th>\n",
       "    </tr>\n",
       "  </thead>\n",
       "  <tbody>\n",
       "    <tr>\n",
       "      <th>0</th>\n",
       "      <td>LiH</td>\n",
       "      <td>2.9810</td>\n",
       "      <td>0.814396</td>\n",
       "      <td>-0.482755</td>\n",
       "    </tr>\n",
       "    <tr>\n",
       "      <th>1</th>\n",
       "      <td>BeH2</td>\n",
       "      <td>5.3260</td>\n",
       "      <td>0.807534</td>\n",
       "      <td>-0.152230</td>\n",
       "    </tr>\n",
       "    <tr>\n",
       "      <th>2</th>\n",
       "      <td>B9H11</td>\n",
       "      <td>2.9118</td>\n",
       "      <td>0.948949</td>\n",
       "      <td>-0.174217</td>\n",
       "    </tr>\n",
       "    <tr>\n",
       "      <th>3</th>\n",
       "      <td>B2H5</td>\n",
       "      <td>6.3448</td>\n",
       "      <td>0.654836</td>\n",
       "      <td>-0.160408</td>\n",
       "    </tr>\n",
       "    <tr>\n",
       "      <th>4</th>\n",
       "      <td>BH3</td>\n",
       "      <td>5.3234</td>\n",
       "      <td>0.574915</td>\n",
       "      <td>-0.144371</td>\n",
       "    </tr>\n",
       "  </tbody>\n",
       "</table>\n",
       "</div>"
      ],
      "text/plain": [
       "  compound_name  band_gap   density  formation_energy\n",
       "0           LiH    2.9810  0.814396         -0.482755\n",
       "1          BeH2    5.3260  0.807534         -0.152230\n",
       "2         B9H11    2.9118  0.948949         -0.174217\n",
       "3          B2H5    6.3448  0.654836         -0.160408\n",
       "4           BH3    5.3234  0.574915         -0.144371"
      ]
     },
     "execution_count": 12,
     "metadata": {},
     "output_type": "execute_result"
    }
   ],
   "source": [
    "compounds.head()"
   ]
  },
  {
   "cell_type": "code",
   "execution_count": 7,
   "metadata": {
    "collapsed": false
   },
   "outputs": [
    {
     "name": "stdout",
     "output_type": "stream",
     "text": [
      "The MAE of always guessing the average band gap is: 0.728 eV\n"
     ]
    }
   ],
   "source": [
    "# Establish baseline accuracy by \"guessing the average\" of the band gap set\n",
    "# A good model should never do worse.\n",
    "baselineError = np.mean(abs(np.mean(compounds['band_gap']) - compounds['band_gap']))\n",
    "print(\"The MAE of always guessing the average band gap is: \" + str(round(baselineError, 3)) + \" eV\")"
   ]
  },
  {
   "cell_type": "code",
   "execution_count": 8,
   "metadata": {
    "collapsed": true
   },
   "outputs": [],
   "source": [
    "linear = linear_model.Ridge(alpha = 0.5) # alpha is a tuning parameter affecting how regression deals with collinear inputs\n",
    "cv = ShuffleSplit(n_splits=10, test_size=0.1, random_state=0)"
   ]
  },
  {
   "cell_type": "code",
   "execution_count": 9,
   "metadata": {
    "collapsed": false
   },
   "outputs": [
    {
     "name": "stdout",
     "output_type": "stream",
     "text": [
      "The MAE of the linear ridge regression band gap model using the formation energy feature set is: 0.559 eV\n"
     ]
    }
   ],
   "source": [
    "f_e_scores = cross_val_score(linear, np.array([compounds['formation_energy']]).T, compounds['band_gap'], cv=cv, scoring='neg_mean_absolute_error')\n",
    "print(\"The MAE of the linear ridge regression band gap model using the formation energy feature set is: \" + str(round(abs(np.mean(f_e_scores)), 3)) + \" eV\")"
   ]
  },
  {
   "cell_type": "code",
   "execution_count": 10,
   "metadata": {
    "collapsed": false
   },
   "outputs": [
    {
     "name": "stdout",
     "output_type": "stream",
     "text": [
      "The MAE of the linear ridge regression band gap model using the density feature set is: 0.68 eV\n"
     ]
    }
   ],
   "source": [
    "d_scores = cross_val_score(linear, np.array([compounds['density']]).T, compounds['band_gap'], cv=cv, scoring='neg_mean_absolute_error')\n",
    "print(\"The MAE of the linear ridge regression band gap model using the density feature set is: \" + str(round(abs(np.mean(d_scores)), 3)) + \" eV\")"
   ]
  },
  {
   "cell_type": "code",
   "execution_count": null,
   "metadata": {
    "collapsed": true
   },
   "outputs": [],
   "source": []
  }
 ],
 "metadata": {
  "anaconda-cloud": {},
  "kernelspec": {
   "display_name": "Python [conda env:py2]",
   "language": "python",
   "name": "conda-env-py2-py"
  },
  "language_info": {
   "codemirror_mode": {
    "name": "ipython",
    "version": 2
   },
   "file_extension": ".py",
   "mimetype": "text/x-python",
   "name": "python",
   "nbconvert_exporter": "python",
   "pygments_lexer": "ipython2",
   "version": "2.7.13"
  }
 },
 "nbformat": 4,
 "nbformat_minor": 2
}
