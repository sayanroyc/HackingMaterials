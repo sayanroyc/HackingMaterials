{
 "cells": [
  {
   "cell_type": "markdown",
   "metadata": {},
   "source": [
    "## Testing matminer volume predictor with 62 structures"
   ]
  },
  {
   "cell_type": "markdown",
   "metadata": {},
   "source": [
    "### Import libraries and set the path which contains the structures in .cif"
   ]
  },
  {
   "cell_type": "code",
   "execution_count": 39,
   "metadata": {
    "collapsed": false
   },
   "outputs": [],
   "source": [
    "import os\n",
    "import pandas as pd\n",
    "from pymatgen import Structure\n",
    "from matminer.learners.volume_predictor import VolumePredictor\n",
    "from pandas.tools.plotting import scatter_matrix\n",
    "import matplotlib.pyplot as plt\n",
    "\n",
    "INITIAL_STRUCTURES_PATH = 'matminerStructures/initial/'\n",
    "RELAXED_STRUCTURES_PATH = 'matminerStructures/relaxed/'"
   ]
  },
  {
   "cell_type": "markdown",
   "metadata": {},
   "source": [
    "### Import each Structure into a list of dicts\n",
    "### [{'reduced_formula', 'initial_vol', 'predicted_vol'}]"
   ]
  },
  {
   "cell_type": "code",
   "execution_count": 40,
   "metadata": {
    "collapsed": false
   },
   "outputs": [],
   "source": [
    "initial_volumes = []\n",
    "for f in os.listdir(INITIAL_STRUCTURES_PATH):\n",
    "    if f.endswith(\".cif\"):\n",
    "        s = Structure.from_file(INITIAL_STRUCTURES_PATH+f)\n",
    "        pred_vol = VolumePredictor().predict(s)\n",
    "        initial_volumes.append({'reduced_formula':s.composition.reduced_formula, 'initial_volume':s.volume, 'predicted_volume':pred_vol})\n",
    "        # print s.composition.reduced_formula, \"Initial vol: {}\".format(s.volume), \"Predicted vol: {}\".format(pred_vol)"
   ]
  },
  {
   "cell_type": "code",
   "execution_count": 47,
   "metadata": {
    "collapsed": false
   },
   "outputs": [],
   "source": [
    "relaxed_volumes = []\n",
    "for f in os.listdir(RELAXED_STRUCTURES_PATH):\n",
    "    if f.endswith(\".cif\"):\n",
    "        s = Structure.from_file(RELAXED_STRUCTURES_PATH+f)\n",
    "        pred_vol = VolumePredictor().predict(s)\n",
    "        relaxed_volumes.append({'reduced_formula':s.composition.reduced_formula, 'relaxed_volume':s.volume, 'predicted_volume':pred_vol})\n",
    "        # print s.composition.reduced_formula, \"Initial vol: {}\".format(s.volume), \"Predicted vol: {}\".format(pred_vol)"
   ]
  },
  {
   "cell_type": "code",
   "execution_count": 49,
   "metadata": {
    "collapsed": false
   },
   "outputs": [],
   "source": [
    "i_v = pd.DataFrame(initial_volumes, columns=['reduced_formula', 'initial_volume', 'predicted_volume'])\n",
    "r_v = pd.DataFrame(relaxed_volumes, columns=['reduced_formula', 'relaxed_volume', 'predicted_volume'])"
   ]
  },
  {
   "cell_type": "code",
   "execution_count": 62,
   "metadata": {
    "collapsed": false
   },
   "outputs": [
    {
     "data": {
      "text/plain": [
       "<matplotlib.collections.PathCollection at 0x11475fc10>"
      ]
     },
     "execution_count": 62,
     "metadata": {},
     "output_type": "execute_result"
    },
    {
     "data": {
      "image/png": "[encoded data removed]",
      "text/plain": [
       "<matplotlib.figure.Figure at 0x114857390>"
      ]
     },
     "metadata": {},
     "output_type": "display_data"
    }
   ],
   "source": [
    "plt.scatter(i_v['initial_volume'], i_v['predicted_volume'])"
   ]
  },
  {
   "cell_type": "code",
   "execution_count": null,
   "metadata": {
    "collapsed": true
   },
   "outputs": [],
   "source": [
    "plt.scatter(r_v['relaxed_volume'], r_v['predicted_volume'])"
   ]
  }
 ],
 "metadata": {
  "anaconda-cloud": {},
  "kernelspec": {
   "display_name": "Python [conda env:py2]",
   "language": "python",
   "name": "conda-env-py2-py"
  },
  "language_info": {
   "codemirror_mode": {
    "name": "ipython",
    "version": 2
   },
   "file_extension": ".py",
   "mimetype": "text/x-python",
   "name": "python",
   "nbconvert_exporter": "python",
   "pygments_lexer": "ipython2",
   "version": "2.7.13"
  }
 },
 "nbformat": 4,
 "nbformat_minor": 2
}
