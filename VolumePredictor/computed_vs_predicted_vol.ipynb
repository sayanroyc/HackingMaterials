{
 "cells": [
  {
   "cell_type": "code",
   "execution_count": 11,
   "metadata": {
    "collapsed": true
   },
   "outputs": [],
   "source": [
    "import os\n",
    "import pandas as pd\n",
    "from pymatgen import Structure\n",
    "from matminer.learners.volume_predictor import VolumePredictor\n",
    "from pandas.tools.plotting import scatter_matrix\n",
    "import matplotlib.pyplot as plt\n",
    "import plotly.plotly as py\n",
    "\n",
    "# use os.path.join to ensure proper '/' between folders and files on a different os\n",
    "INITIAL_STRUCTURES_PATH = os.path.join(os.getcwd(), 'matminerStructures','initial')\n",
    "# RELAXED_STRUCTURES_PATH = 'matminerStructures/relaxed/'"
   ]
  },
  {
   "cell_type": "code",
   "execution_count": 9,
   "metadata": {
    "collapsed": false
   },
   "outputs": [
    {
     "name": "stdout",
     "output_type": "stream",
     "text": [
      " 1123.69540138 1123.69535759\n"
     ]
    }
   ],
   "source": [
    "test_s = Structure.from_file(os.path.join(INITIAL_STRUCTURES_PATH,\n",
    "                                          'Li4P2S7_mp-554577_init_mm.cif'))\n",
    "print test_s.volume, VolumePredictor().predict(test_s)"
   ]
  },
  {
   "cell_type": "code",
   "execution_count": 16,
   "metadata": {
    "collapsed": false
   },
   "outputs": [
    {
     "name": "stdout",
     "output_type": "stream",
     "text": [
      "Index([u'substituted', u'parent', u'source', u'mapping', u'Natoms',\n",
      "       u'cvp-ionic Vi', u'no scaled Vi', u'vp Vi', u'cvp-atomic Vi',\n",
      "       u'cvp-ionic Vf', u'no scaled Vf', u'vp Vf', u'cvp-atomic Vf',\n",
      "       u'first cvp-ionic CPU time (s)', u'first no scaled CPU time (s)',\n",
      "       u'first vp CPU time (s)', u'first cvp-atomic CPU time (s)',\n",
      "       u'second cvp-ionic CPU time (s)', u'second no scaled CPU time (s)',\n",
      "       u'second vp CPU time (s)', u'second cvp-atomic CPU time (s)',\n",
      "       u'total cvp-ionic CPU time (s)', u'total no scaled CPU time (s)',\n",
      "       u'total vp CPU time (s)', u'total cvp-atomic CPU time (s)',\n",
      "       u'E cvp-ionic (eV/atom)', u'E no scaled (eV/atom)', u'E vp (eV/atom)',\n",
      "       u'E cvp-atomic (eV/atom)'],\n",
      "      dtype='object')\n"
     ]
    }
   ],
   "source": [
    "a=pd.read_csv('results_double_20170104.csv')\n",
    "print a['no scaled Vi']"
   ]
  },
  {
   "cell_type": "code",
   "execution_count": null,
   "metadata": {
    "collapsed": true
   },
   "outputs": [],
   "source": []
  }
 ],
 "metadata": {
  "anaconda-cloud": {},
  "kernelspec": {
   "display_name": "Python [conda env:py2]",
   "language": "python",
   "name": "conda-env-py2-py"
  },
  "language_info": {
   "codemirror_mode": {
    "name": "ipython",
    "version": 2
   },
   "file_extension": ".py",
   "mimetype": "text/x-python",
   "name": "python",
   "nbconvert_exporter": "python",
   "pygments_lexer": "ipython2",
   "version": "2.7.13"
  }
 },
 "nbformat": 4,
 "nbformat_minor": 2
}
