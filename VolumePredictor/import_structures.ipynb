{
 "cells": [
  {
   "cell_type": "code",
   "execution_count": 1,
   "metadata": {
    "collapsed": false,
    "run_control": {
     "frozen": false,
     "read_only": false
    }
   },
   "outputs": [],
   "source": [
    "from pymatgen import MPRester\n",
    "import pprint\n",
    "\n",
    "api_key='QBUZAI2ExwdstKO7'\n",
    "\n",
    "mpr = MPRester(api_key)\n",
    "all_mpids = mpr.query({}, [\"material_id\", \"elements\", \"e_above_hull\"])"
   ]
  },
  {
   "cell_type": "code",
   "execution_count": 2,
   "metadata": {
    "collapsed": false,
    "run_control": {
     "frozen": false,
     "read_only": false
    }
   },
   "outputs": [
    {
     "name": "stdout",
     "output_type": "stream",
     "text": [
      "Number of materials in database: 67973\n",
      "{u'elements': [u'I', u'N', u'Zr'], u'material_id': u'mp-23052', u'e_above_hull': 0}\n"
     ]
    }
   ],
   "source": [
    "print 'Number of materials in database:', len(all_mpids) # initially 67561 in db\n",
    "print all_mpids[8464]"
   ]
  },
  {
   "cell_type": "code",
   "execution_count": 3,
   "metadata": {
    "collapsed": false,
    "run_control": {
     "frozen": false,
     "read_only": false
    }
   },
   "outputs": [
    {
     "name": "stdout",
     "output_type": "stream",
     "text": [
      "Number of materials in database < 0.2 eV and does not contain noble gases: 62601\n"
     ]
    }
   ],
   "source": [
    "# delete all with e_above_hull > 0.2 and if contains any Noble gases\n",
    "noble_gases = ['He', 'Ne', 'Ar', 'Kr', 'Xe', 'Rn']\n",
    "\n",
    "for mat in all_mpids:\n",
    "    if bool(set(mat['elements']) & set(noble_gases)):\n",
    "        all_mpids.remove(mat)\n",
    "    elif mat['e_above_hull'] > 0.2:\n",
    "        all_mpids.remove(mat)\n",
    "        \n",
    "print 'Number of materials in database < 0.2 eV and does not contain noble gases:', len(all_mpids)"
   ]
  },
  {
   "cell_type": "markdown",
   "metadata": {
    "run_control": {
     "frozen": false,
     "read_only": false
    }
   },
   "source": [
    "## clean out gases/liquids at standard"
   ]
  },
  {
   "cell_type": "code",
   "execution_count": 13,
   "metadata": {
    "collapsed": false,
    "run_control": {
     "frozen": false,
     "read_only": false
    }
   },
   "outputs": [
    {
     "data": {
      "text/plain": [
       "[{u'e_above_hull': 0.0021126499999999937,\n",
       "  u'elements': [u'Hg'],\n",
       "  u'material_id': u'mp-569360'},\n",
       " {u'e_above_hull': 0.01239585999999998,\n",
       "  u'elements': [u'Hg'],\n",
       "  u'material_id': u'mp-753304'},\n",
       " {u'e_above_hull': 0.0030844266666666398,\n",
       "  u'elements': [u'Hg'],\n",
       "  u'material_id': u'mp-10861'},\n",
       " {u'e_above_hull': 0.002392559999999988,\n",
       "  u'elements': [u'Hg'],\n",
       "  u'material_id': u'mp-1017981'},\n",
       " {u'e_above_hull': 0.020461740000000006,\n",
       "  u'elements': [u'Hg'],\n",
       "  u'material_id': u'mp-982872'},\n",
       " {u'e_above_hull': 0.02432036999999998,\n",
       "  u'elements': [u'Hg'],\n",
       "  u'material_id': u'mp-121'},\n",
       " {u'e_above_hull': 0.08616251,\n",
       "  u'elements': [u'Hg'],\n",
       "  u'material_id': u'mp-611219'},\n",
       " {u'e_above_hull': 0.007525730000000008,\n",
       "  u'elements': [u'Hg'],\n",
       "  u'material_id': u'mp-569289'},\n",
       " {u'e_above_hull': 0.0008712927586206898,\n",
       "  u'elements': [u'Hg'],\n",
       "  u'material_id': u'mp-864900'},\n",
       " {u'e_above_hull': 0, u'elements': [u'Hg'], u'material_id': u'mp-975272'}]"
      ]
     },
     "execution_count": 13,
     "metadata": {},
     "output_type": "execute_result"
    }
   ],
   "source": [
    "filter(lambda m: m['elements'] == ['Hg'], all_mpids)"
   ]
  },
  {
   "cell_type": "code",
   "execution_count": 11,
   "metadata": {
    "collapsed": false,
    "run_control": {
     "frozen": false,
     "read_only": false
    }
   },
   "outputs": [
    {
     "name": "stdout",
     "output_type": "stream",
     "text": [
      "mp-998864 deleted\n",
      "mp-1010048 deleted\n"
     ]
    }
   ],
   "source": [
    "mats_to_delete = ['mp-1010048','mp-998864']\n",
    "\n",
    "for mat in all_mpids:\n",
    "    if mat['material_id'] in mats_to_delete:\n",
    "        all_mpids.remove(mat)\n",
    "        print mat['material_id'], 'deleted'"
   ]
  },
  {
   "cell_type": "code",
   "execution_count": 14,
   "metadata": {
    "collapsed": false
   },
   "outputs": [
    {
     "name": "stdout",
     "output_type": "stream",
     "text": [
      "final count: 62594\n"
     ]
    }
   ],
   "source": [
    "print 'final count:', len(all_mpids)"
   ]
  },
  {
   "cell_type": "markdown",
   "metadata": {
    "run_control": {
     "frozen": false,
     "read_only": false
    }
   },
   "source": [
    "## Put into MongoDB"
   ]
  },
  {
   "cell_type": "code",
   "execution_count": 15,
   "metadata": {
    "collapsed": false,
    "run_control": {
     "frozen": false,
     "read_only": false
    }
   },
   "outputs": [],
   "source": [
    "from pymongo import MongoClient\n",
    "client = MongoClient()"
   ]
  },
  {
   "cell_type": "code",
   "execution_count": 23,
   "metadata": {
    "collapsed": false,
    "run_control": {
     "frozen": false,
     "read_only": false
    }
   },
   "outputs": [
    {
     "name": "stdout",
     "output_type": "stream",
     "text": [
      "[u'mp_final', u'materials_project']\n"
     ]
    }
   ],
   "source": [
    "db = client.structure_sets\n",
    "print db.collection_names()"
   ]
  },
  {
   "cell_type": "code",
   "execution_count": null,
   "metadata": {
    "collapsed": false,
    "run_control": {
     "frozen": false,
     "read_only": false
    }
   },
   "outputs": [],
   "source": [
    "result = db.mp_bv_final.delete_many({})\n",
    "result.deleted_count\n",
    "db.mp_bv_final.drop()"
   ]
  },
  {
   "cell_type": "code",
   "execution_count": 19,
   "metadata": {
    "collapsed": false,
    "run_control": {
     "frozen": false,
     "read_only": false
    }
   },
   "outputs": [
    {
     "name": "stdout",
     "output_type": "stream",
     "text": [
      "67466\n"
     ]
    }
   ],
   "source": [
    "cursor = db.mp_final.find(limit=1)\n",
    "print cursor.count()"
   ]
  },
  {
   "cell_type": "code",
   "execution_count": 21,
   "metadata": {
    "collapsed": false,
    "run_control": {
     "frozen": false,
     "read_only": false
    }
   },
   "outputs": [
    {
     "name": "stdout",
     "output_type": "stream",
     "text": [
      "100 structures imported.\n",
      "200 structures imported.\n",
      "300 structures imported.\n",
      "400 structures imported.\n",
      "500 structures imported.\n",
      "600 structures imported.\n",
      "700 structures imported.\n",
      "800 structures imported.\n",
      "900 structures imported.\n",
      "1000 structures imported.\n",
      "1100 structures imported.\n",
      "1200 structures imported.\n",
      "1300 structures imported.\n",
      "1400 structures imported.\n",
      "1500 structures imported.\n",
      "1600 structures imported.\n",
      "1700 structures imported.\n",
      "1800 structures imported.\n",
      "1900 structures imported.\n",
      "2000 structures imported.\n",
      "2100 structures imported.\n",
      "2200 structures imported.\n",
      "2300 structures imported.\n",
      "2400 structures imported.\n",
      "2500 structures imported.\n",
      "2600 structures imported.\n",
      "2700 structures imported.\n",
      "2800 structures imported.\n",
      "2900 structures imported.\n",
      "3000 structures imported.\n",
      "3100 structures imported.\n",
      "3200 structures imported.\n",
      "3300 structures imported.\n",
      "3400 structures imported.\n",
      "3500 structures imported.\n",
      "3600 structures imported.\n",
      "3700 structures imported.\n",
      "3800 structures imported.\n",
      "3900 structures imported.\n",
      "4000 structures imported.\n",
      "4100 structures imported.\n",
      "4200 structures imported.\n",
      "4300 structures imported.\n",
      "4400 structures imported.\n",
      "4500 structures imported.\n",
      "4600 structures imported.\n",
      "4700 structures imported.\n",
      "4800 structures imported.\n",
      "4900 structures imported.\n",
      "5000 structures imported.\n",
      "5100 structures imported.\n",
      "5200 structures imported.\n",
      "5300 structures imported.\n",
      "5400 structures imported.\n",
      "5500 structures imported.\n",
      "5600 structures imported.\n",
      "5700 structures imported.\n",
      "5800 structures imported.\n",
      "5900 structures imported.\n",
      "6000 structures imported.\n",
      "6100 structures imported.\n",
      "6200 structures imported.\n",
      "6300 structures imported.\n",
      "6400 structures imported.\n",
      "6500 structures imported.\n",
      "6600 structures imported.\n",
      "6700 structures imported.\n",
      "6800 structures imported.\n",
      "6900 structures imported.\n",
      "7000 structures imported.\n",
      "7100 structures imported.\n",
      "7200 structures imported.\n",
      "7300 structures imported.\n",
      "7400 structures imported.\n",
      "7500 structures imported.\n",
      "7600 structures imported.\n",
      "7700 structures imported.\n",
      "7800 structures imported.\n",
      "7900 structures imported.\n",
      "8000 structures imported.\n",
      "8100 structures imported.\n",
      "8200 structures imported.\n",
      "8300 structures imported.\n",
      "8400 structures imported.\n",
      "8500 structures imported.\n",
      "8600 structures imported.\n",
      "8700 structures imported.\n",
      "8800 structures imported.\n",
      "8900 structures imported.\n",
      "9000 structures imported.\n",
      "9100 structures imported.\n",
      "9200 structures imported.\n",
      "9300 structures imported.\n",
      "9400 structures imported.\n",
      "9500 structures imported.\n",
      "9600 structures imported.\n",
      "9700 structures imported.\n",
      "9800 structures imported.\n",
      "9900 structures imported.\n",
      "10000 structures imported.\n",
      "10100 structures imported.\n",
      "10200 structures imported.\n",
      "10300 structures imported.\n",
      "10400 structures imported.\n",
      "10500 structures imported.\n",
      "10600 structures imported.\n",
      "10700 structures imported.\n",
      "10800 structures imported.\n",
      "10900 structures imported.\n",
      "11000 structures imported.\n",
      "11100 structures imported.\n",
      "11200 structures imported.\n",
      "11300 structures imported.\n",
      "11400 structures imported.\n",
      "11500 structures imported.\n",
      "11600 structures imported.\n",
      "11700 structures imported.\n",
      "11800 structures imported.\n",
      "11900 structures imported.\n",
      "12000 structures imported.\n",
      "12100 structures imported.\n",
      "12200 structures imported.\n",
      "12300 structures imported.\n",
      "12400 structures imported.\n",
      "12500 structures imported.\n",
      "12600 structures imported.\n",
      "12700 structures imported.\n",
      "12800 structures imported.\n",
      "12900 structures imported.\n",
      "13000 structures imported.\n",
      "13100 structures imported.\n",
      "13200 structures imported.\n",
      "13300 structures imported.\n",
      "13400 structures imported.\n",
      "13500 structures imported.\n",
      "13600 structures imported.\n",
      "13700 structures imported.\n",
      "13800 structures imported.\n",
      "13900 structures imported.\n",
      "14000 structures imported.\n",
      "14100 structures imported.\n",
      "14200 structures imported.\n",
      "14300 structures imported.\n",
      "14400 structures imported.\n",
      "14500 structures imported.\n",
      "14600 structures imported.\n",
      "14700 structures imported.\n",
      "14800 structures imported.\n",
      "14900 structures imported.\n",
      "15000 structures imported.\n",
      "15100 structures imported.\n",
      "15200 structures imported.\n",
      "15300 structures imported.\n",
      "15400 structures imported.\n",
      "15500 structures imported.\n",
      "15600 structures imported.\n",
      "15700 structures imported.\n",
      "15800 structures imported.\n",
      "15900 structures imported.\n",
      "16000 structures imported.\n",
      "16100 structures imported.\n",
      "16200 structures imported.\n",
      "16300 structures imported.\n",
      "16400 structures imported.\n",
      "16500 structures imported.\n",
      "16600 structures imported.\n",
      "16700 structures imported.\n",
      "16800 structures imported.\n",
      "16900 structures imported.\n",
      "17000 structures imported.\n",
      "17100 structures imported.\n",
      "17200 structures imported.\n",
      "17300 structures imported.\n",
      "17400 structures imported.\n",
      "17500 structures imported.\n",
      "17600 structures imported.\n",
      "17700 structures imported.\n",
      "17800 structures imported.\n",
      "17900 structures imported.\n",
      "18000 structures imported.\n",
      "18100 structures imported.\n",
      "18200 structures imported.\n",
      "18300 structures imported.\n",
      "18400 structures imported.\n",
      "18500 structures imported.\n",
      "18600 structures imported.\n",
      "18700 structures imported.\n",
      "18800 structures imported.\n",
      "18900 structures imported.\n",
      "19000 structures imported.\n",
      "19100 structures imported.\n",
      "19200 structures imported.\n",
      "19300 structures imported.\n",
      "19400 structures imported.\n",
      "19500 structures imported.\n",
      "19600 structures imported.\n",
      "19700 structures imported.\n",
      "19800 structures imported.\n",
      "19900 structures imported.\n",
      "20000 structures imported.\n",
      "20100 structures imported.\n",
      "20200 structures imported.\n",
      "20300 structures imported.\n",
      "20400 structures imported.\n",
      "20500 structures imported.\n",
      "20600 structures imported.\n",
      "20700 structures imported.\n",
      "20800 structures imported.\n",
      "20900 structures imported.\n",
      "21000 structures imported.\n",
      "21100 structures imported.\n",
      "21200 structures imported.\n",
      "21300 structures imported.\n",
      "21400 structures imported.\n",
      "21500 structures imported.\n",
      "21600 structures imported.\n",
      "21700 structures imported.\n",
      "21800 structures imported.\n",
      "21900 structures imported.\n",
      "22000 structures imported.\n",
      "22100 structures imported.\n",
      "22200 structures imported.\n",
      "22300 structures imported.\n",
      "22400 structures imported.\n",
      "22500 structures imported.\n",
      "22600 structures imported.\n",
      "22700 structures imported.\n",
      "22800 structures imported.\n",
      "22900 structures imported.\n",
      "23000 structures imported.\n",
      "23100 structures imported.\n",
      "23200 structures imported.\n",
      "23300 structures imported.\n",
      "23400 structures imported.\n",
      "23500 structures imported.\n",
      "23600 structures imported.\n",
      "23700 structures imported.\n",
      "23800 structures imported.\n",
      "23900 structures imported.\n",
      "24000 structures imported.\n",
      "24100 structures imported.\n",
      "24200 structures imported.\n",
      "24300 structures imported.\n",
      "24400 structures imported.\n",
      "24500 structures imported.\n",
      "24600 structures imported.\n",
      "24700 structures imported.\n",
      "24800 structures imported.\n",
      "24900 structures imported.\n",
      "25000 structures imported.\n",
      "25100 structures imported.\n",
      "25200 structures imported.\n",
      "25300 structures imported.\n",
      "25400 structures imported.\n",
      "25500 structures imported.\n",
      "25600 structures imported.\n",
      "25700 structures imported.\n",
      "25800 structures imported.\n",
      "25900 structures imported.\n",
      "26000 structures imported.\n",
      "26100 structures imported.\n",
      "26200 structures imported.\n",
      "26300 structures imported.\n",
      "26400 structures imported.\n",
      "26500 structures imported.\n",
      "26600 structures imported.\n",
      "26700 structures imported.\n",
      "26800 structures imported.\n",
      "26900 structures imported.\n",
      "27000 structures imported.\n",
      "27100 structures imported.\n",
      "27200 structures imported.\n",
      "27300 structures imported.\n",
      "27400 structures imported.\n",
      "27500 structures imported.\n",
      "27600 structures imported.\n",
      "27700 structures imported.\n",
      "27800 structures imported.\n",
      "27900 structures imported.\n",
      "28000 structures imported.\n",
      "28100 structures imported.\n",
      "28200 structures imported.\n",
      "28300 structures imported.\n",
      "28400 structures imported.\n",
      "28500 structures imported.\n",
      "28600 structures imported.\n",
      "28700 structures imported.\n",
      "28800 structures imported.\n",
      "28900 structures imported.\n",
      "29000 structures imported.\n",
      "29100 structures imported.\n",
      "29200 structures imported.\n",
      "29300 structures imported.\n",
      "29400 structures imported.\n",
      "29500 structures imported.\n",
      "29600 structures imported.\n",
      "29700 structures imported.\n",
      "29800 structures imported.\n",
      "29900 structures imported.\n",
      "30000 structures imported.\n",
      "30100 structures imported.\n",
      "30200 structures imported.\n",
      "30300 structures imported.\n",
      "30400 structures imported.\n",
      "30500 structures imported.\n",
      "30600 structures imported.\n",
      "30700 structures imported.\n",
      "30800 structures imported.\n",
      "30900 structures imported.\n",
      "31000 structures imported.\n",
      "31100 structures imported.\n",
      "31200 structures imported.\n",
      "31300 structures imported.\n",
      "31400 structures imported.\n",
      "31500 structures imported.\n",
      "31600 structures imported.\n",
      "31700 structures imported.\n",
      "31800 structures imported.\n",
      "31900 structures imported.\n",
      "32000 structures imported.\n",
      "32100 structures imported.\n",
      "32200 structures imported.\n",
      "32300 structures imported.\n",
      "32400 structures imported.\n",
      "32500 structures imported.\n",
      "32600 structures imported.\n",
      "32700 structures imported.\n",
      "32800 structures imported.\n",
      "32900 structures imported.\n",
      "33000 structures imported.\n",
      "33100 structures imported.\n",
      "33200 structures imported.\n",
      "33300 structures imported.\n",
      "33400 structures imported.\n",
      "33500 structures imported.\n",
      "33600 structures imported.\n",
      "33700 structures imported.\n",
      "33800 structures imported.\n",
      "33900 structures imported.\n",
      "34000 structures imported.\n",
      "34100 structures imported.\n",
      "34200 structures imported.\n",
      "34300 structures imported.\n",
      "34400 structures imported.\n",
      "34500 structures imported.\n",
      "34600 structures imported.\n",
      "34700 structures imported.\n",
      "34800 structures imported.\n",
      "34900 structures imported.\n",
      "35000 structures imported.\n",
      "35100 structures imported.\n",
      "35200 structures imported.\n",
      "35300 structures imported.\n",
      "35400 structures imported.\n",
      "35500 structures imported.\n",
      "35600 structures imported.\n",
      "35700 structures imported.\n",
      "35800 structures imported.\n",
      "35900 structures imported.\n",
      "36000 structures imported.\n",
      "36100 structures imported.\n",
      "36200 structures imported.\n",
      "36300 structures imported.\n",
      "36400 structures imported.\n",
      "36500 structures imported.\n",
      "36600 structures imported.\n",
      "36700 structures imported.\n",
      "36800 structures imported.\n",
      "36900 structures imported.\n",
      "37000 structures imported.\n",
      "37100 structures imported.\n",
      "37200 structures imported.\n",
      "37300 structures imported.\n",
      "37400 structures imported.\n",
      "37500 structures imported.\n",
      "37600 structures imported.\n",
      "37700 structures imported.\n",
      "37800 structures imported.\n",
      "37900 structures imported.\n",
      "38000 structures imported.\n",
      "38100 structures imported.\n",
      "38200 structures imported.\n",
      "38300 structures imported.\n",
      "38400 structures imported.\n",
      "38500 structures imported.\n",
      "38600 structures imported.\n",
      "38700 structures imported.\n",
      "38800 structures imported.\n",
      "38900 structures imported.\n",
      "39000 structures imported.\n",
      "39100 structures imported.\n",
      "39200 structures imported.\n",
      "39300 structures imported.\n",
      "39400 structures imported.\n",
      "39500 structures imported.\n",
      "39600 structures imported.\n",
      "39700 structures imported.\n",
      "39800 structures imported.\n",
      "39900 structures imported.\n",
      "40000 structures imported.\n",
      "40100 structures imported.\n",
      "40200 structures imported.\n",
      "40300 structures imported.\n",
      "40400 structures imported.\n",
      "40500 structures imported.\n",
      "40600 structures imported.\n",
      "40700 structures imported.\n",
      "40800 structures imported.\n",
      "40900 structures imported.\n",
      "41000 structures imported.\n",
      "41100 structures imported.\n",
      "41200 structures imported.\n",
      "41300 structures imported.\n",
      "41400 structures imported.\n",
      "41500 structures imported.\n",
      "41600 structures imported.\n",
      "41700 structures imported.\n",
      "41800 structures imported.\n",
      "41900 structures imported.\n",
      "42000 structures imported.\n",
      "42100 structures imported.\n",
      "42200 structures imported.\n",
      "42300 structures imported.\n",
      "42400 structures imported.\n",
      "42500 structures imported.\n",
      "42600 structures imported.\n",
      "42700 structures imported.\n",
      "42800 structures imported.\n",
      "42900 structures imported.\n",
      "43000 structures imported.\n",
      "43100 structures imported.\n",
      "43200 structures imported.\n",
      "43300 structures imported.\n",
      "43400 structures imported.\n",
      "43500 structures imported.\n",
      "43600 structures imported.\n",
      "43700 structures imported.\n",
      "43800 structures imported.\n",
      "43900 structures imported.\n",
      "44000 structures imported.\n",
      "44100 structures imported.\n",
      "44200 structures imported.\n",
      "44300 structures imported.\n",
      "44400 structures imported.\n",
      "44500 structures imported.\n",
      "44600 structures imported.\n",
      "44700 structures imported.\n",
      "44800 structures imported.\n",
      "44900 structures imported.\n",
      "45000 structures imported.\n",
      "45100 structures imported.\n",
      "45200 structures imported.\n",
      "45300 structures imported.\n",
      "45400 structures imported.\n",
      "45500 structures imported.\n",
      "45600 structures imported.\n",
      "45700 structures imported.\n",
      "45800 structures imported.\n",
      "45900 structures imported.\n",
      "46000 structures imported.\n",
      "46100 structures imported.\n",
      "46200 structures imported.\n",
      "46300 structures imported.\n",
      "46400 structures imported.\n",
      "46500 structures imported.\n",
      "46600 structures imported.\n",
      "46700 structures imported.\n",
      "46800 structures imported.\n",
      "46900 structures imported.\n",
      "47000 structures imported.\n",
      "47100 structures imported.\n",
      "47200 structures imported.\n",
      "47300 structures imported.\n",
      "47400 structures imported.\n",
      "47500 structures imported.\n",
      "47600 structures imported.\n",
      "47700 structures imported.\n",
      "47800 structures imported.\n",
      "47900 structures imported.\n",
      "48000 structures imported.\n",
      "48100 structures imported.\n",
      "48200 structures imported.\n",
      "48300 structures imported.\n",
      "48400 structures imported.\n",
      "48500 structures imported.\n",
      "48600 structures imported.\n",
      "48700 structures imported.\n",
      "48800 structures imported.\n",
      "48900 structures imported.\n",
      "49000 structures imported.\n",
      "49100 structures imported.\n",
      "49200 structures imported.\n",
      "49300 structures imported.\n",
      "49400 structures imported.\n",
      "49500 structures imported.\n",
      "49600 structures imported.\n",
      "49700 structures imported.\n",
      "49800 structures imported.\n",
      "49900 structures imported.\n",
      "50000 structures imported.\n",
      "50100 structures imported.\n",
      "50200 structures imported.\n",
      "50300 structures imported.\n",
      "50400 structures imported.\n",
      "50500 structures imported.\n",
      "50600 structures imported.\n",
      "50700 structures imported.\n",
      "50800 structures imported.\n",
      "50900 structures imported.\n",
      "51000 structures imported.\n",
      "51100 structures imported.\n",
      "51200 structures imported.\n",
      "51300 structures imported.\n",
      "51400 structures imported.\n",
      "51500 structures imported.\n",
      "51600 structures imported.\n",
      "51700 structures imported.\n",
      "51800 structures imported.\n",
      "51900 structures imported.\n",
      "52000 structures imported.\n",
      "52100 structures imported.\n",
      "52200 structures imported.\n",
      "52300 structures imported.\n",
      "52400 structures imported.\n",
      "52500 structures imported.\n",
      "52600 structures imported.\n",
      "52700 structures imported.\n",
      "52800 structures imported.\n",
      "52900 structures imported.\n",
      "53000 structures imported.\n",
      "53100 structures imported.\n",
      "53200 structures imported.\n",
      "53300 structures imported.\n",
      "53400 structures imported.\n",
      "53500 structures imported.\n",
      "53600 structures imported.\n",
      "53700 structures imported.\n",
      "53800 structures imported.\n",
      "53900 structures imported.\n",
      "54000 structures imported.\n",
      "54100 structures imported.\n",
      "54200 structures imported.\n",
      "54300 structures imported.\n",
      "54400 structures imported.\n",
      "54500 structures imported.\n",
      "54600 structures imported.\n",
      "54700 structures imported.\n",
      "54800 structures imported.\n",
      "54900 structures imported.\n",
      "55000 structures imported.\n",
      "55100 structures imported.\n",
      "55200 structures imported.\n",
      "55300 structures imported.\n",
      "55400 structures imported.\n",
      "55500 structures imported.\n",
      "55600 structures imported.\n",
      "55700 structures imported.\n",
      "55800 structures imported.\n",
      "55900 structures imported.\n",
      "56000 structures imported.\n",
      "56100 structures imported.\n",
      "56200 structures imported.\n",
      "56300 structures imported.\n",
      "56400 structures imported.\n",
      "56500 structures imported.\n",
      "56600 structures imported.\n",
      "56700 structures imported.\n",
      "56800 structures imported.\n",
      "56900 structures imported.\n",
      "57000 structures imported.\n",
      "57100 structures imported.\n",
      "57200 structures imported.\n",
      "57300 structures imported.\n",
      "57400 structures imported.\n",
      "57500 structures imported.\n",
      "57600 structures imported.\n",
      "57700 structures imported.\n",
      "57800 structures imported.\n",
      "57900 structures imported.\n",
      "58000 structures imported.\n",
      "58100 structures imported.\n",
      "58200 structures imported.\n",
      "58300 structures imported.\n",
      "58400 structures imported.\n",
      "58500 structures imported.\n",
      "58600 structures imported.\n",
      "58700 structures imported.\n",
      "58800 structures imported.\n",
      "58900 structures imported.\n",
      "59000 structures imported.\n",
      "59100 structures imported.\n",
      "59200 structures imported.\n",
      "59300 structures imported.\n",
      "59400 structures imported.\n",
      "59500 structures imported.\n",
      "59600 structures imported.\n",
      "59700 structures imported.\n",
      "59800 structures imported.\n",
      "59900 structures imported.\n",
      "60000 structures imported.\n",
      "60100 structures imported.\n",
      "60200 structures imported.\n",
      "60300 structures imported.\n",
      "60400 structures imported.\n",
      "60500 structures imported.\n",
      "60600 structures imported.\n",
      "60700 structures imported.\n",
      "60800 structures imported.\n",
      "60900 structures imported.\n",
      "61000 structures imported.\n",
      "61100 structures imported.\n",
      "61200 structures imported.\n",
      "61300 structures imported.\n",
      "61400 structures imported.\n",
      "61500 structures imported.\n",
      "61600 structures imported.\n",
      "61700 structures imported.\n",
      "61800 structures imported.\n",
      "61900 structures imported.\n",
      "62000 structures imported.\n",
      "62100 structures imported.\n",
      "62200 structures imported.\n",
      "62300 structures imported.\n",
      "62400 structures imported.\n",
      "62500 structures imported.\n"
     ]
    }
   ],
   "source": [
    "# mpr.get_structure_by_material_id('mp-656887')\n",
    "# all_mpids[0]['material_id']\n",
    "# s = mpr.get_structure_by_material_id(all_mpids[1]['material_id'])\n",
    "# s_dict = s.as_dict()\n",
    "\n",
    "count = 0\n",
    "\n",
    "for mp_id in all_mpids:\n",
    "    s = mpr.get_structure_by_material_id(mp_id['material_id']).as_dict()\n",
    "    result = db.materials_project.insert_one(s)\n",
    "    \n",
    "    count +=1\n",
    "    if count%100 == 0:\n",
    "        print count, 'structures imported.'\n",
    "    "
   ]
  },
  {
   "cell_type": "code",
   "execution_count": 22,
   "metadata": {
    "collapsed": false,
    "run_control": {
     "frozen": false,
     "read_only": false
    }
   },
   "outputs": [
    {
     "data": {
      "text/plain": [
       "62595"
      ]
     },
     "execution_count": 22,
     "metadata": {},
     "output_type": "execute_result"
    }
   ],
   "source": [
    "cursor = db.materials_project.find()\n",
    "\n",
    "cursor.count()\n",
    "# for document in cursor:\n",
    "#     print(document)"
   ]
  },
  {
   "cell_type": "code",
   "execution_count": null,
   "metadata": {
    "collapsed": true,
    "run_control": {
     "frozen": false,
     "read_only": false
    }
   },
   "outputs": [],
   "source": [
    "from pymatgen.analysis.bond_valence import BV_PARAMS, ELECTRONEG\n",
    "from pymatgen import Element, Structure\n",
    "import pprint"
   ]
  },
  {
   "cell_type": "code",
   "execution_count": null,
   "metadata": {
    "collapsed": false,
    "run_control": {
     "frozen": false,
     "read_only": false
    }
   },
   "outputs": [],
   "source": [
    "# mpr.get_structure_by_material_id(all_mpids[4298]['material_id'])\n",
    "cursor = db.mp_bv_hull_final.find()\n",
    "cursor.count()"
   ]
  },
  {
   "cell_type": "code",
   "execution_count": null,
   "metadata": {
    "collapsed": false,
    "run_control": {
     "frozen": false,
     "read_only": false
    }
   },
   "outputs": [],
   "source": [
    "# Insert into mp_bv_final\n",
    "\n",
    "count = 0\n",
    "for doc in cursor:\n",
    "    # make sure at least two different elements in the structure are found in our database\n",
    "    matching_ELECTRONEG_els = []\n",
    "    matching_BV_els = []\n",
    "    for site in doc['sites']:\n",
    "        el = Element(site['label'])\n",
    "        if el in ELECTRONEG:\n",
    "            if el not in matching_ELECTRONEG_els:\n",
    "                matching_ELECTRONEG_els.append(el)\n",
    "        elif el in list(BV_PARAMS.keys()):\n",
    "            if el not in matching_BV_els:\n",
    "                matching_BV_els.append(el)\n",
    "            \n",
    "    if len(matching_ELECTRONEG_els) > 0 and len(matching_BV_els) > 0:\n",
    "        result = db.mp_bv_final.insert_one(doc)\n",
    "        \n",
    "    count +=1\n",
    "    if count%100 == 0:\n",
    "        print count, 'iterated through structures.'"
   ]
  },
  {
   "cell_type": "code",
   "execution_count": null,
   "metadata": {
    "collapsed": false,
    "run_control": {
     "frozen": false,
     "read_only": false
    }
   },
   "outputs": [],
   "source": [
    "for doc in cursor:\n",
    "    for specie in doc['sites']:\n",
    "        print specie['label']\n",
    "        el = Element(specie['label'])\n",
    "        if el in ELECTRONEG or el in list(BV_PARAMS.keys()):\n",
    "            print el.symbol\n",
    "#     pprint.pprint(doc['sites'])"
   ]
  },
  {
   "cell_type": "code",
   "execution_count": null,
   "metadata": {
    "collapsed": false,
    "run_control": {
     "frozen": false,
     "read_only": false
    }
   },
   "outputs": [],
   "source": [
    "cursor = db.mp_bv_final.find(limit=5)\n",
    "cursor.count()"
   ]
  },
  {
   "cell_type": "code",
   "execution_count": null,
   "metadata": {
    "collapsed": false,
    "run_control": {
     "frozen": false,
     "read_only": false
    }
   },
   "outputs": [],
   "source": [
    "# Insert from mp_final into mp_bv_hull_final\n",
    "# get all structures that are <50meV/atom (stability)\n",
    "\n",
    "# count = 0\n",
    "# IT DOESN'T DO THE LAST n IN THE [0:n]\n",
    "for mpid in all_mpids[count:]:\n",
    "    e_above_hull = mpr.get_entry_by_material_id(mpid['material_id'],property_data=['e_above_hull']).as_dict()['data']['e_above_hull']\n",
    "    s = mpr.get_structure_by_material_id(mpid['material_id'])\n",
    "    num_atoms = s.composition.num_atoms\n",
    "    if e_above_hull/num_atoms <= 0.5:\n",
    "        result = db.mp_bv_hull_final.insert_one(s.as_dict())\n",
    "        \n",
    "    count +=1\n",
    "    if count%100 == 0:\n",
    "        print count, 'structures iterated through.'"
   ]
  },
  {
   "cell_type": "code",
   "execution_count": null,
   "metadata": {
    "collapsed": false,
    "run_control": {
     "frozen": false,
     "read_only": false
    }
   },
   "outputs": [],
   "source": [
    "po = [0, 1, 2, 3, 4, 5]\n",
    "for a in po[0:5]:\n",
    "    print a\n",
    "    \n",
    "count\n",
    "    "
   ]
  },
  {
   "cell_type": "code",
   "execution_count": null,
   "metadata": {
    "collapsed": false,
    "run_control": {
     "frozen": false,
     "read_only": false
    }
   },
   "outputs": [],
   "source": [
    "all_mpids[0]['material_id']"
   ]
  },
  {
   "cell_type": "code",
   "execution_count": null,
   "metadata": {
    "collapsed": false,
    "run_control": {
     "frozen": false,
     "read_only": false
    }
   },
   "outputs": [],
   "source": [
    "cursor = db.mp_bv_final.find() \n",
    "cursor.count()"
   ]
  },
  {
   "cell_type": "code",
   "execution_count": null,
   "metadata": {
    "collapsed": false,
    "run_control": {
     "frozen": false,
     "read_only": false
    }
   },
   "outputs": [],
   "source": [
    "cursor = db.mp_bv_final.find(limit=1)\n",
    "for doc in cursor:\n",
    "    print doc['_id']"
   ]
  },
  {
   "cell_type": "code",
   "execution_count": null,
   "metadata": {
    "collapsed": false,
    "run_control": {
     "frozen": false,
     "read_only": false
    }
   },
   "outputs": [],
   "source": [
    "cursor = db.mp_bv_hull_final.find() \n",
    "cursor.count()"
   ]
  },
  {
   "cell_type": "code",
   "execution_count": null,
   "metadata": {
    "collapsed": true,
    "run_control": {
     "frozen": false,
     "read_only": false
    }
   },
   "outputs": [],
   "source": []
  }
 ],
 "metadata": {
  "anaconda-cloud": {},
  "kernelspec": {
   "display_name": "Python [conda env:py2]",
   "language": "python",
   "name": "conda-env-py2-py"
  },
  "language_info": {
   "codemirror_mode": {
    "name": "ipython",
    "version": 2
   },
   "file_extension": ".py",
   "mimetype": "text/x-python",
   "name": "python",
   "nbconvert_exporter": "python",
   "pygments_lexer": "ipython2",
   "version": "2.7.13"
  }
 },
 "nbformat": 4,
 "nbformat_minor": 2
}
