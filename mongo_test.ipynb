{
 "cells": [
  {
   "cell_type": "markdown",
   "metadata": {
    "run_control": {
     "frozen": false,
     "read_only": false
    }
   },
   "source": [
    "# MongoDB Python tutorial. Use https://docs.mongodb.com/getting-started/python"
   ]
  },
  {
   "cell_type": "markdown",
   "metadata": {
    "heading_collapsed": true,
    "run_control": {
     "frozen": false,
     "read_only": false
    }
   },
   "source": [
    "## Set up"
   ]
  },
  {
   "cell_type": "code",
   "execution_count": 2,
   "metadata": {
    "collapsed": true,
    "hidden": true,
    "run_control": {
     "frozen": false,
     "read_only": false
    }
   },
   "outputs": [],
   "source": [
    "import pprint # use this to 'pretty' print data\n",
    "from pymongo import MongoClient\n",
    "client = MongoClient()"
   ]
  },
  {
   "cell_type": "code",
   "execution_count": 3,
   "metadata": {
    "collapsed": true,
    "hidden": true,
    "run_control": {
     "frozen": false,
     "read_only": false
    }
   },
   "outputs": [],
   "source": [
    "# To assign the database named primer to the local variable db, you can use attribute access, as in the following:\n",
    "# db = client.primer\n",
    "# or\n",
    "# db = client['primer']\n",
    "\n",
    "db = client.test"
   ]
  },
  {
   "cell_type": "code",
   "execution_count": 4,
   "metadata": {
    "collapsed": false,
    "hidden": true,
    "run_control": {
     "frozen": false,
     "read_only": false
    }
   },
   "outputs": [],
   "source": [
    "# You can access collection objects directly using dictionary-style or attribute access from a Database object:\n",
    "coll = db.dataset # or db['dataset']"
   ]
  },
  {
   "cell_type": "markdown",
   "metadata": {
    "heading_collapsed": true,
    "run_control": {
     "frozen": false,
     "read_only": false
    }
   },
   "source": [
    "## Inserting docs"
   ]
  },
  {
   "cell_type": "markdown",
   "metadata": {
    "heading_collapsed": true,
    "hidden": true,
    "run_control": {
     "frozen": false,
     "read_only": false
    }
   },
   "source": [
    "### use the insert_one() or the insert_many() method to add documents to a collection. If collection does not exist, MongoDB will create it."
   ]
  },
  {
   "cell_type": "code",
   "execution_count": 5,
   "metadata": {
    "collapsed": true,
    "hidden": true,
    "run_control": {
     "frozen": false,
     "read_only": false
    }
   },
   "outputs": [],
   "source": [
    "# Insert a document into a collection named restaurants. The operation will create the collection \n",
    "# if the collection does not currently exist.\n",
    "\n",
    "from datetime import datetime\n",
    "result = db.restaurants.insert_one(\n",
    "    {\n",
    "        \"address\": {\n",
    "            \"street\": \"2 Avenue\",\n",
    "            \"zipcode\": \"10075\",\n",
    "            \"building\": \"1480\",\n",
    "            \"coord\": [-73.9557413, 40.7720266]\n",
    "        },\n",
    "        \"borough\": \"Manhattan\",\n",
    "        \"cuisine\": \"Italian\",\n",
    "        \"grades\": [\n",
    "            {\n",
    "                \"date\": datetime.strptime(\"2014-10-01\", \"%Y-%m-%d\"),\n",
    "                \"grade\": \"A\",\n",
    "                \"score\": 11\n",
    "            },\n",
    "            {\n",
    "                \"date\": datetime.strptime(\"2014-01-16\", \"%Y-%m-%d\"),\n",
    "                \"grade\": \"B\",\n",
    "                \"score\": 17\n",
    "            }\n",
    "        ],\n",
    "        \"name\": \"Vella\",\n",
    "        \"restaurant_id\": \"41704620\"\n",
    "    }\n",
    ")"
   ]
  },
  {
   "cell_type": "code",
   "execution_count": 6,
   "metadata": {
    "collapsed": false,
    "hidden": true,
    "run_control": {
     "frozen": false,
     "read_only": false
    }
   },
   "outputs": [
    {
     "data": {
      "text/plain": [
       "ObjectId('58a63657dd1c3f256f7e6f99')"
      ]
     },
     "execution_count": 6,
     "metadata": {},
     "output_type": "execute_result"
    }
   ],
   "source": [
    "# The operation returns an InsertOneResult object, which includes an attribute inserted_id that contains the \n",
    "# _id of the inserted document. Access the inserted_id attribute:\n",
    "result.inserted_id"
   ]
  },
  {
   "cell_type": "markdown",
   "metadata": {
    "run_control": {
     "frozen": false,
     "read_only": false
    }
   },
   "source": [
    "## Find/Query"
   ]
  },
  {
   "cell_type": "markdown",
   "metadata": {
    "run_control": {
     "frozen": false,
     "read_only": false
    }
   },
   "source": [
    "### Get ALL documents"
   ]
  },
  {
   "cell_type": "code",
   "execution_count": 10,
   "metadata": {
    "collapsed": false,
    "run_control": {
     "frozen": false,
     "read_only": false
    }
   },
   "outputs": [
    {
     "data": {
      "text/plain": [
       "25360"
      ]
     },
     "execution_count": 10,
     "metadata": {},
     "output_type": "execute_result"
    }
   ],
   "source": [
    "# this queries for ALL documents in restaurants collection\n",
    "cursor = db.restaurants.find()\n",
    "cursor.count()\n",
    "# do yourself a favor and don't ever print this..\n",
    "# for document in cursor:\n",
    "#     pprint.pprint(document)"
   ]
  },
  {
   "cell_type": "markdown",
   "metadata": {
    "heading_collapsed": true,
    "run_control": {
     "frozen": false,
     "read_only": false
    }
   },
   "source": [
    "### top level query"
   ]
  },
  {
   "cell_type": "code",
   "execution_count": 11,
   "metadata": {
    "collapsed": false,
    "hidden": true,
    "run_control": {
     "frozen": false,
     "read_only": false
    }
   },
   "outputs": [
    {
     "data": {
      "text/plain": [
       "10260"
      ]
     },
     "execution_count": 11,
     "metadata": {},
     "output_type": "execute_result"
    }
   ],
   "source": [
    "# The following operation finds documents whose borough field equals \"Manhattan\".\n",
    "\n",
    "cursor = db.restaurants.find({\"borough\": \"Manhattan\"})\n",
    "cursor.count()\n",
    "# yeah don't print this one either..\n",
    "# for document in cursor:\n",
    "#     pprint.pprint(document)\n",
    "# The result set includes only the matching documents."
   ]
  },
  {
   "cell_type": "markdown",
   "metadata": {
    "heading_collapsed": true,
    "run_control": {
     "frozen": false,
     "read_only": false
    }
   },
   "source": [
    "### embedded doc / array search"
   ]
  },
  {
   "cell_type": "code",
   "execution_count": 12,
   "metadata": {
    "collapsed": false,
    "hidden": true,
    "run_control": {
     "frozen": false,
     "read_only": false
    }
   },
   "outputs": [
    {
     "data": {
      "text/plain": [
       "100"
      ]
     },
     "execution_count": 12,
     "metadata": {},
     "output_type": "execute_result"
    }
   ],
   "source": [
    "# use the dot notation for a field in an embedded doc\n",
    "cursor = db.restaurants.find({\"address.zipcode\": \"10075\"})\n",
    "# cursor = db.restaurants.find({\"grades.grade\": \"B\"})\n",
    "\n",
    "cursor.count()\n",
    "# for document in cursor:\n",
    "#     pprint.pprint(document)"
   ]
  },
  {
   "cell_type": "markdown",
   "metadata": {
    "heading_collapsed": true,
    "run_control": {
     "frozen": false,
     "read_only": false
    }
   },
   "source": [
    "### Conditional queries"
   ]
  },
  {
   "cell_type": "code",
   "execution_count": 17,
   "metadata": {
    "collapsed": false,
    "hidden": true,
    "run_control": {
     "frozen": false,
     "read_only": false
    }
   },
   "outputs": [
    {
     "name": "stdout",
     "output_type": "stream",
     "text": [
      "grades>30: 1959\n",
      "Italian food in 10075: 16\n",
      "either Italian or in 10075: 1154\n"
     ]
    }
   ],
   "source": [
    "# $gt : greater than\n",
    "# $lt : less than\n",
    "cursor = db.restaurants.find({\"grades.score\": {\"$gt\": 30}})\n",
    "print 'grades>30:', cursor.count()\n",
    "\n",
    "# logical AND\n",
    "cursor = db.restaurants.find({\"cuisine\": \"Italian\", \"address.zipcode\": \"10075\"})\n",
    "print 'Italian food in 10075:', cursor.count()\n",
    "\n",
    "# logical OR\n",
    "cursor = db.restaurants.find({\"$or\": [{\"cuisine\": \"Italian\"}, {\"address.zipcode\": \"10075\"}]})\n",
    "print 'either Italian or in 10075:', cursor.count()"
   ]
  },
  {
   "cell_type": "markdown",
   "metadata": {
    "heading_collapsed": true,
    "run_control": {
     "frozen": false,
     "read_only": false
    }
   },
   "source": [
    "### Sort queries"
   ]
  },
  {
   "cell_type": "code",
   "execution_count": 21,
   "metadata": {
    "collapsed": false,
    "hidden": true,
    "run_control": {
     "frozen": false,
     "read_only": false
    }
   },
   "outputs": [
    {
     "name": "stdout",
     "output_type": "stream",
     "text": [
      "{u'_id': ObjectId('58a634ba19477c41b841c95e'),\n",
      " u'address': {u'building': u'650',\n",
      "              u'coord': [-73.92537449999999, 40.8207116],\n",
      "              u'street': u'Grand Concourse',\n",
      "              u'zipcode': u''},\n",
      " u'borough': u'Bronx',\n",
      " u'cuisine': u'Sandwiches',\n",
      " u'grades': [{u'date': datetime.datetime(2014, 9, 30, 0, 0),\n",
      "              u'grade': u'A',\n",
      "              u'score': 7}],\n",
      " u'name': u'Subway#50497 (Cardinal Hayes High School)',\n",
      " u'restaurant_id': u'50006048'}\n",
      "{u'_id': ObjectId('58a634b919477c41b8417674'),\n",
      " u'address': {u'building': u'72',\n",
      "              u'coord': [-73.92506, 40.8275556],\n",
      "              u'street': u'East  161 Street',\n",
      "              u'zipcode': u'10451'},\n",
      " u'borough': u'Bronx',\n",
      " u'cuisine': u'American',\n",
      " u'grades': [{u'date': datetime.datetime(2014, 4, 15, 0, 0),\n",
      "              u'grade': u'A',\n",
      "              u'score': 9},\n",
      "             {u'date': datetime.datetime(2013, 11, 14, 0, 0),\n",
      "              u'grade': u'A',\n",
      "              u'score': 4},\n",
      "             {u'date': datetime.datetime(2013, 7, 29, 0, 0),\n",
      "              u'grade': u'A',\n",
      "              u'score': 10},\n",
      "             {u'date': datetime.datetime(2012, 12, 31, 0, 0),\n",
      "              u'grade': u'B',\n",
      "              u'score': 15},\n",
      "             {u'date': datetime.datetime(2012, 5, 30, 0, 0),\n",
      "              u'grade': u'A',\n",
      "              u'score': 13},\n",
      "             {u'date': datetime.datetime(2012, 1, 9, 0, 0),\n",
      "              u'grade': u'A',\n",
      "              u'score': 10},\n",
      "             {u'date': datetime.datetime(2011, 8, 15, 0, 0),\n",
      "              u'grade': u'C',\n",
      "              u'score': 37}],\n",
      " u'name': u'Yankee Tavern',\n",
      " u'restaurant_id': u'40365499'}\n",
      "{u'_id': ObjectId('58a634b919477c41b8417974'),\n",
      " u'address': {u'building': u'101',\n",
      "              u'coord': [-73.9243061, 40.8276297],\n",
      "              u'street': u'East 161 Street',\n",
      "              u'zipcode': u'10451'},\n",
      " u'borough': u'Bronx',\n",
      " u'cuisine': u'Latin (Cuban, Dominican, Puerto Rican, South & Central American)',\n",
      " u'grades': [{u'date': datetime.datetime(2014, 4, 10, 0, 0),\n",
      "              u'grade': u'A',\n",
      "              u'score': 10},\n",
      "             {u'date': datetime.datetime(2013, 10, 1, 0, 0),\n",
      "              u'grade': u'A',\n",
      "              u'score': 6},\n",
      "             {u'date': datetime.datetime(2013, 4, 11, 0, 0),\n",
      "              u'grade': u'B',\n",
      "              u'score': 25},\n",
      "             {u'date': datetime.datetime(2012, 10, 25, 0, 0),\n",
      "              u'grade': u'A',\n",
      "              u'score': 12},\n",
      "             {u'date': datetime.datetime(2012, 10, 10, 0, 0),\n",
      "              u'grade': u'P',\n",
      "              u'score': 12},\n",
      "             {u'date': datetime.datetime(2012, 5, 25, 0, 0),\n",
      "              u'grade': u'B',\n",
      "              u'score': 14},\n",
      "             {u'date': datetime.datetime(2011, 9, 14, 0, 0),\n",
      "              u'grade': u'B',\n",
      "              u'score': 26},\n",
      "             {u'date': datetime.datetime(2011, 4, 25, 0, 0),\n",
      "              u'grade': u'C',\n",
      "              u'score': 76}],\n",
      " u'name': u'El Molino Rojo Restaurant',\n",
      " u'restaurant_id': u'40393688'}\n",
      "{u'_id': ObjectId('58a634b919477c41b84179fd'),\n",
      " u'address': {u'building': u'5167',\n",
      "              u'coord': [-73.9252904, 40.828054],\n",
      "              u'street': u'East  161 Street',\n",
      "              u'zipcode': u'10451'},\n",
      " u'borough': u'Bronx',\n",
      " u'cuisine': u'Hamburgers',\n",
      " u'grades': [{u'date': datetime.datetime(2014, 4, 10, 0, 0),\n",
      "              u'grade': u'A',\n",
      "              u'score': 12},\n",
      "             {u'date': datetime.datetime(2013, 4, 9, 0, 0),\n",
      "              u'grade': u'A',\n",
      "              u'score': 4},\n",
      "             {u'date': datetime.datetime(2012, 4, 30, 0, 0),\n",
      "              u'grade': u'A',\n",
      "              u'score': 10},\n",
      "             {u'date': datetime.datetime(2011, 12, 27, 0, 0),\n",
      "              u'grade': u'A',\n",
      "              u'score': 12}],\n",
      " u'name': u\"Mcdonald'S\",\n",
      " u'restaurant_id': u'40396399'}\n",
      "{u'_id': ObjectId('58a634b919477c41b8417a94'),\n",
      " u'address': {u'building': u'599',\n",
      "              u'coord': [-73.9270544, 40.8197704],\n",
      "              u'street': u'Grand Concourse',\n",
      "              u'zipcode': u'10451'},\n",
      " u'borough': u'Bronx',\n",
      " u'cuisine': u'Hamburgers',\n",
      " u'grades': [{u'date': datetime.datetime(2014, 2, 6, 0, 0),\n",
      "              u'grade': u'A',\n",
      "              u'score': 7},\n",
      "             {u'date': datetime.datetime(2013, 9, 5, 0, 0),\n",
      "              u'grade': u'A',\n",
      "              u'score': 2},\n",
      "             {u'date': datetime.datetime(2013, 3, 26, 0, 0),\n",
      "              u'grade': u'A',\n",
      "              u'score': 5},\n",
      "             {u'date': datetime.datetime(2012, 10, 2, 0, 0),\n",
      "              u'grade': u'A',\n",
      "              u'score': 2},\n",
      "             {u'date': datetime.datetime(2012, 7, 19, 0, 0),\n",
      "              u'grade': u'A',\n",
      "              u'score': 12},\n",
      "             {u'date': datetime.datetime(2012, 3, 6, 0, 0),\n",
      "              u'grade': u'A',\n",
      "              u'score': 9},\n",
      "             {u'date': datetime.datetime(2011, 10, 11, 0, 0),\n",
      "              u'grade': u'A',\n",
      "              u'score': 7}],\n",
      " u'name': u\"Mcdonald'S\",\n",
      " u'restaurant_id': u'40399778'}\n"
     ]
    }
   ],
   "source": [
    "import pymongo\n",
    "cursor = db.restaurants.find(limit=5).sort([\n",
    "    (\"borough\", pymongo.ASCENDING),\n",
    "    (\"address.zipcode\", pymongo.ASCENDING)\n",
    "])\n",
    "for document in cursor:\n",
    "    pprint.pprint(document)"
   ]
  },
  {
   "cell_type": "markdown",
   "metadata": {
    "run_control": {
     "frozen": false,
     "read_only": false
    }
   },
   "source": [
    "## Update entries"
   ]
  },
  {
   "cell_type": "markdown",
   "metadata": {
    "heading_collapsed": true
   },
   "source": [
    "### Update a specific field"
   ]
  },
  {
   "cell_type": "code",
   "execution_count": 22,
   "metadata": {
    "collapsed": true,
    "hidden": true,
    "run_control": {
     "frozen": false,
     "read_only": false
    }
   },
   "outputs": [],
   "source": [
    "# to change a field value, use operators such as $set\n",
    "result = db.restaurants.update_one(\n",
    "    {\"name\": \"Juni\"},\n",
    "    {\n",
    "        \"$set\": {\n",
    "            \"cuisine\": \"American (New)\"\n",
    "        },\n",
    "        \"$currentDate\": {\"lastModified\": True}\n",
    "    }\n",
    ")"
   ]
  },
  {
   "cell_type": "code",
   "execution_count": 25,
   "metadata": {
    "collapsed": false,
    "hidden": true,
    "run_control": {
     "frozen": false,
     "read_only": false
    }
   },
   "outputs": [
    {
     "name": "stdout",
     "output_type": "stream",
     "text": [
      "1\n",
      "1\n"
     ]
    }
   ],
   "source": [
    "print result.matched_count  # number of docs matching the filter condition\n",
    "print result.modified_count # number of docs modified"
   ]
  },
  {
   "cell_type": "markdown",
   "metadata": {
    "collapsed": true,
    "heading_collapsed": true,
    "run_control": {
     "frozen": false,
     "read_only": false
    }
   },
   "source": [
    "### Update an embedded field"
   ]
  },
  {
   "cell_type": "code",
   "execution_count": 26,
   "metadata": {
    "collapsed": true,
    "hidden": true
   },
   "outputs": [],
   "source": [
    "result = db.restaurants.update_one(\n",
    "    {\"restaurant_id\": \"41156888\"},\n",
    "    {\"$set\": {\"address.street\": \"East 31st Street\"}}\n",
    ")"
   ]
  },
  {
   "cell_type": "code",
   "execution_count": 27,
   "metadata": {
    "collapsed": false,
    "hidden": true
   },
   "outputs": [
    {
     "name": "stdout",
     "output_type": "stream",
     "text": [
      "1\n",
      "1\n"
     ]
    }
   ],
   "source": [
    "print result.matched_count  # number of docs matching the filter condition\n",
    "print result.modified_count # number of docs modified"
   ]
  },
  {
   "cell_type": "markdown",
   "metadata": {
    "heading_collapsed": true
   },
   "source": [
    "### Update multiple docs"
   ]
  },
  {
   "cell_type": "code",
   "execution_count": 28,
   "metadata": {
    "collapsed": true,
    "hidden": true
   },
   "outputs": [],
   "source": [
    "result = db.restaurants.update_many(\n",
    "    {\"address.zipcode\": \"10016\", \"cuisine\": \"Other\"},\n",
    "    {\n",
    "        \"$set\": {\"cuisine\": \"Category To Be Determined\"},\n",
    "        \"$currentDate\": {\"lastModified\": True}\n",
    "    }\n",
    ")"
   ]
  },
  {
   "cell_type": "code",
   "execution_count": 29,
   "metadata": {
    "collapsed": false,
    "hidden": true
   },
   "outputs": [
    {
     "name": "stdout",
     "output_type": "stream",
     "text": [
      "20\n",
      "20\n"
     ]
    }
   ],
   "source": [
    "print result.matched_count  # number of docs matching the filter condition\n",
    "print result.modified_count # number of docs modified"
   ]
  },
  {
   "cell_type": "markdown",
   "metadata": {},
   "source": [
    "### Replace a doc"
   ]
  },
  {
   "cell_type": "code",
   "execution_count": 30,
   "metadata": {
    "collapsed": true
   },
   "outputs": [],
   "source": [
    "# a document replaces EVERYTHING. It will contain only what is in the replacement_doc\n",
    "result = db.restaurants.replace_one(\n",
    "    {\"restaurant_id\": \"41704620\"},\n",
    "    {\n",
    "        \"name\": \"Vella 2\",\n",
    "        \"address\": {\n",
    "            \"coord\": [-73.9557413, 40.7720266],\n",
    "            \"building\": \"1480\",\n",
    "            \"street\": \"2 Avenue\",\n",
    "            \"zipcode\": \"10075\"\n",
    "        }\n",
    "    }\n",
    ")"
   ]
  },
  {
   "cell_type": "code",
   "execution_count": 31,
   "metadata": {
    "collapsed": false
   },
   "outputs": [
    {
     "name": "stdout",
     "output_type": "stream",
     "text": [
      "1\n",
      "1\n"
     ]
    }
   ],
   "source": [
    "print result.matched_count  # number of docs matching the filter condition\n",
    "print result.modified_count # number of docs modified"
   ]
  },
  {
   "cell_type": "markdown",
   "metadata": {},
   "source": [
    "## Remove entries"
   ]
  },
  {
   "cell_type": "markdown",
   "metadata": {},
   "source": [
    "### Delete entries matching some parameter"
   ]
  },
  {
   "cell_type": "code",
   "execution_count": 32,
   "metadata": {
    "collapsed": true
   },
   "outputs": [],
   "source": [
    "result = db.restaurants.delete_many({\"borough\": \"Manhattan\"})"
   ]
  },
  {
   "cell_type": "code",
   "execution_count": 33,
   "metadata": {
    "collapsed": false
   },
   "outputs": [
    {
     "data": {
      "text/plain": [
       "10259"
      ]
     },
     "execution_count": 33,
     "metadata": {},
     "output_type": "execute_result"
    }
   ],
   "source": [
    "result.deleted_count"
   ]
  },
  {
   "cell_type": "markdown",
   "metadata": {},
   "source": [
    "### Delete all docs"
   ]
  },
  {
   "cell_type": "code",
   "execution_count": 34,
   "metadata": {
    "collapsed": true
   },
   "outputs": [],
   "source": [
    "result = db.restaurants.delete_many({})"
   ]
  },
  {
   "cell_type": "code",
   "execution_count": 35,
   "metadata": {
    "collapsed": false
   },
   "outputs": [
    {
     "data": {
      "text/plain": [
       "15101"
      ]
     },
     "execution_count": 35,
     "metadata": {},
     "output_type": "execute_result"
    }
   ],
   "source": [
    "result.deleted_count"
   ]
  },
  {
   "cell_type": "markdown",
   "metadata": {},
   "source": [
    "### Delete a collection"
   ]
  },
  {
   "cell_type": "code",
   "execution_count": 38,
   "metadata": {
    "collapsed": true
   },
   "outputs": [],
   "source": [
    "# previous operation only removes all docs, not the collection itself\n",
    "# drop the entire collection, including the indexes\n",
    "db.restaurants.drop()"
   ]
  }
 ],
 "metadata": {
  "anaconda-cloud": {},
  "kernelspec": {
   "display_name": "Python [conda env:py2]",
   "language": "python",
   "name": "conda-env-py2-py"
  },
  "language_info": {
   "codemirror_mode": {
    "name": "ipython",
    "version": 2
   },
   "file_extension": ".py",
   "mimetype": "text/x-python",
   "name": "python",
   "nbconvert_exporter": "python",
   "pygments_lexer": "ipython2",
   "version": "2.7.13"
  }
 },
 "nbformat": 4,
 "nbformat_minor": 2
}
